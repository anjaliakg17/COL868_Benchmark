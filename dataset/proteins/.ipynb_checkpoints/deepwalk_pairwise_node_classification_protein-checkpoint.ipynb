{
 "cells": [
  {
   "cell_type": "code",
   "execution_count": 13,
   "metadata": {},
   "outputs": [],
   "source": [
    "import json\n",
    "from networkx.readwrite import json_graph\n",
    "import os\n",
    "import numpy as np\n",
    "import networkx as nx\n",
    "from pathlib import Path\n",
    "import stellargraph as sg\n",
    "from stellargraph.data import EdgeSplitter\n",
    "\n",
    "from sklearn.model_selection import train_test_split\n",
    "from sklearn.linear_model import LogisticRegression\n",
    "from sklearn.linear_model import LinearRegression\n",
    "from sklearn.svm import LinearSVC\n",
    "from sklearn.ensemble import RandomForestClassifier, GradientBoostingClassifier, ExtraTreesClassifier \n",
    "#from sklearn.ensemble import BaggingClassifier, AdaBoostClassifier, StackingClassifier, VotingClassifier\n",
    "from sklearn.model_selection import KFold\n",
    "from sklearn.metrics import classification_report,confusion_matrix,roc_auc_score\n",
    "from sklearn.metrics import precision_score, recall_score,f1_score\n",
    "from sklearn.metrics.pairwise import cosine_similarity"
   ]
  },
  {
   "cell_type": "code",
   "execution_count": 20,
   "metadata": {},
   "outputs": [],
   "source": [
    "def edge_similarity(node1, node2):\n",
    "    return np.abs((node1-node2))/2"
   ]
  },
  {
   "cell_type": "code",
   "execution_count": 23,
   "metadata": {},
   "outputs": [],
   "source": [
    "data_adj = np.loadtxt('PROTEINS_full_A.txt', delimiter=',').astype(int)\n",
    "data_tuple = list(map(tuple, data_adj))\n",
    "\n",
    "G = nx.Graph()\n",
    "# add edges\n",
    "G.add_edges_from(data_tuple)\n",
    "for edge in G.edges():\n",
    "    G[edge[0]][edge[1]]['weight'] = 1\n",
    "\n",
    "G = G.to_undirected()"
   ]
  },
  {
   "cell_type": "code",
   "execution_count": 51,
   "metadata": {},
   "outputs": [],
   "source": [
    "node_labels = np.loadtxt('PROTEINS_full_node_labels.txt') "
   ]
  },
  {
   "cell_type": "code",
   "execution_count": 52,
   "metadata": {},
   "outputs": [],
   "source": [
    "edges = [n for n in G.edges()]\n",
    "protein_edge_file = \"protein_edge_list.txt\"\n",
    "with open(protein_edge_file, 'w') as fp:\n",
    "    fp.write('\\n'.join('{} {}'.format(x[0],x[1]) for x in edges))"
   ]
  },
  {
   "cell_type": "code",
   "execution_count": 55,
   "metadata": {},
   "outputs": [],
   "source": [
    "N = 1000000\n",
    "split_size = 5"
   ]
  },
  {
   "cell_type": "code",
   "execution_count": 57,
   "metadata": {},
   "outputs": [
    {
     "name": "stdout",
     "output_type": "stream",
     "text": [
      "protien_edge_embad_full_64_80_10_10.txt\n"
     ]
    },
    {
     "name": "stderr",
     "output_type": "stream",
     "text": [
      "[Parallel(n_jobs=1)]: Using backend SequentialBackend with 1 concurrent workers.\n",
      "[Parallel(n_jobs=1)]: Done   5 out of   5 | elapsed:    3.2s finished\n",
      "[Parallel(n_jobs=1)]: Using backend SequentialBackend with 1 concurrent workers.\n",
      "[Parallel(n_jobs=1)]: Done   5 out of   5 | elapsed:    0.1s finished\n",
      "[Parallel(n_jobs=1)]: Using backend SequentialBackend with 1 concurrent workers.\n",
      "[Parallel(n_jobs=1)]: Done   5 out of   5 | elapsed:    3.1s finished\n",
      "[Parallel(n_jobs=1)]: Using backend SequentialBackend with 1 concurrent workers.\n",
      "[Parallel(n_jobs=1)]: Done   5 out of   5 | elapsed:    0.1s finished\n"
     ]
    },
    {
     "name": "stdout",
     "output_type": "stream",
     "text": [
      "protien_edge_embad_full_128_80_10_10.txt\n"
     ]
    },
    {
     "name": "stderr",
     "output_type": "stream",
     "text": [
      "[Parallel(n_jobs=1)]: Using backend SequentialBackend with 1 concurrent workers.\n",
      "[Parallel(n_jobs=1)]: Done   5 out of   5 | elapsed:    4.9s finished\n",
      "[Parallel(n_jobs=1)]: Using backend SequentialBackend with 1 concurrent workers.\n",
      "[Parallel(n_jobs=1)]: Done   5 out of   5 | elapsed:    0.1s finished\n",
      "[Parallel(n_jobs=1)]: Using backend SequentialBackend with 1 concurrent workers.\n",
      "[Parallel(n_jobs=1)]: Done   5 out of   5 | elapsed:    5.4s finished\n",
      "[Parallel(n_jobs=1)]: Using backend SequentialBackend with 1 concurrent workers.\n",
      "[Parallel(n_jobs=1)]: Done   5 out of   5 | elapsed:    0.1s finished\n"
     ]
    }
   ],
   "source": [
    "\n",
    "rep_sizes = [64, 128]\n",
    "walk_lens = [80]\n",
    "win_sizes = [10]\n",
    "n_walks = [10]\n",
    "for rep_size in rep_sizes:\n",
    "    for walk_len in walk_lens:\n",
    "        for win_size in win_sizes:\n",
    "            for n_walk in n_walks:\n",
    "                output_file = \"protien_edge_embad_full_\"+str(rep_size)+\"_\"+str(walk_len)+\"_\"+str(win_size)+\"_\"+str(n_walk)+\".txt\"\n",
    "                command = \"deepwalk --format edgelist --number-walks \" + str(n_walk) + \" --representation-size \" + str(rep_size) + \" --walk-length \" + str(walk_len) + \" --window-size \" + str(win_size) + \" --undirected true --input \" + protein_edge_file + \" --output \" + output_file + \" --workers 8\"\n",
    "                if not Path(output_file).is_file():\n",
    "                    os.system(command)\n",
    "                print(output_file)\n",
    "                node_embeddings = np.loadtxt(output_file,skiprows=1)\n",
    "                I1 = np.random.randint(0, node_embeddings.shape[0], size=(N))\n",
    "                I2 = np.random.randint(0, node_embeddings.shape[0], size=(N))\n",
    "\n",
    "                # Method 1\n",
    "                X = edge_similarity(node_embeddings[I1], node_embeddings[I2])\n",
    "\n",
    "                # Method 3\n",
    "                # X_train = np.concatenate((node_embeddings[I1], node_embeddings[I2]), axis=1)\n",
    "\n",
    "\n",
    "                y = node_labels[I1] == node_labels[I2]\n",
    "                s = np.arange(X.shape[0])\n",
    "                np.random.shuffle(s)\n",
    "                X2 = X[s]\n",
    "                y2 = y[s]\n",
    "                roc = []\n",
    "                prec = []\n",
    "                rec = []\n",
    "                f1 = []\n",
    "                kf = KFold(n_splits=split_size)\n",
    "                for train_index, test_index in kf.split(X2):\n",
    "                    X_train2, X_test2 = X2[train_index], X2[test_index]\n",
    "                    y_train2, y_test2 = y2[train_index], y2[test_index]\n",
    "                    clf = RandomForestClassifier(random_state=1,verbose=1,n_estimators=5)\n",
    "                    clf.fit(X_train2,y_train2)\n",
    "\n",
    "                    pred = clf.predict(X_test2)\n",
    "\n",
    "\n",
    "                    roc.append(roc_auc_score(y_test2,pred, average='micro'))\n",
    "                    prec.append(precision_score(y_test2,pred, average='micro'))\n",
    "                    rec.append(recall_score(y_test2,pred, average='micro'))\n",
    "                    f1.append(f1_score(y_test2,pred, average='micro'))\n",
    "                \n",
    "                result = str(rep_size)+\",\"+str(walk_len)+\",\"+str(win_size)+\",\"+str(n_walk)+\",\"+str(np.mean(roc))+\",\"+str(np.mean(prec))+\",\"+str(np.mean(rec))+\",\"+str(np.mean(f1))+\"\\n\"\n",
    "                f= open(\"result_pairwisenode_protein_deepwalk.txt\",\"a+\")\n",
    "                f.write(result)\n",
    "                f.close()"
   ]
  },
  {
   "cell_type": "code",
   "execution_count": 58,
   "metadata": {},
   "outputs": [
    {
     "name": "stdout",
     "output_type": "stream",
     "text": [
      "protien_edge_embad_full_128_10_10_10.txt\n"
     ]
    },
    {
     "name": "stderr",
     "output_type": "stream",
     "text": [
      "[Parallel(n_jobs=1)]: Using backend SequentialBackend with 1 concurrent workers.\n",
      "[Parallel(n_jobs=1)]: Done  15 out of  15 | elapsed:   17.0s finished\n",
      "[Parallel(n_jobs=1)]: Using backend SequentialBackend with 1 concurrent workers.\n",
      "[Parallel(n_jobs=1)]: Done  15 out of  15 | elapsed:    0.2s finished\n",
      "[Parallel(n_jobs=1)]: Using backend SequentialBackend with 1 concurrent workers.\n",
      "[Parallel(n_jobs=1)]: Done  15 out of  15 | elapsed:   13.6s finished\n",
      "[Parallel(n_jobs=1)]: Using backend SequentialBackend with 1 concurrent workers.\n",
      "[Parallel(n_jobs=1)]: Done  15 out of  15 | elapsed:    0.2s finished\n"
     ]
    },
    {
     "name": "stdout",
     "output_type": "stream",
     "text": [
      "protien_edge_embad_full_128_200_10_10.txt\n"
     ]
    },
    {
     "name": "stderr",
     "output_type": "stream",
     "text": [
      "[Parallel(n_jobs=1)]: Using backend SequentialBackend with 1 concurrent workers.\n",
      "[Parallel(n_jobs=1)]: Done  15 out of  15 | elapsed:   12.8s finished\n",
      "[Parallel(n_jobs=1)]: Using backend SequentialBackend with 1 concurrent workers.\n",
      "[Parallel(n_jobs=1)]: Done  15 out of  15 | elapsed:    0.2s finished\n",
      "[Parallel(n_jobs=1)]: Using backend SequentialBackend with 1 concurrent workers.\n",
      "[Parallel(n_jobs=1)]: Done  15 out of  15 | elapsed:   12.6s finished\n",
      "[Parallel(n_jobs=1)]: Using backend SequentialBackend with 1 concurrent workers.\n",
      "[Parallel(n_jobs=1)]: Done  15 out of  15 | elapsed:    0.2s finished\n"
     ]
    }
   ],
   "source": [
    "rep_sizes = [128]\n",
    "walk_lens = [10,200]\n",
    "win_sizes = [10]\n",
    "n_walks = [10]\n",
    "for rep_size in rep_sizes:\n",
    "    for walk_len in walk_lens:\n",
    "        for win_size in win_sizes:\n",
    "            for n_walk in n_walks:\n",
    "                output_file = \"protien_edge_embad_full_\"+str(rep_size)+\"_\"+str(walk_len)+\"_\"+str(win_size)+\"_\"+str(n_walk)+\".txt\"\n",
    "                command = \"deepwalk --format edgelist --number-walks \" + str(n_walk) + \" --representation-size \" + str(rep_size) + \" --walk-length \" + str(walk_len) + \" --window-size \" + str(win_size) + \" --undirected true --input \" + protein_edge_file + \" --output \" + output_file + \" --workers 8\"\n",
    "                if not Path(output_file).is_file():\n",
    "                    os.system(command)\n",
    "                print(output_file)\n",
    "                node_embeddings = np.loadtxt(output_file,skiprows=1)\n",
    "                I1 = np.random.randint(0, node_embeddings.shape[0], size=(N))\n",
    "                I2 = np.random.randint(0, node_embeddings.shape[0], size=(N))\n",
    "\n",
    "                # Method 1\n",
    "                X = edge_similarity(node_embeddings[I1], node_embeddings[I2])\n",
    "\n",
    "                # Method 3\n",
    "                # X_train = np.concatenate((node_embeddings[I1], node_embeddings[I2]), axis=1)\n",
    "\n",
    "\n",
    "                y = node_labels[I1] == node_labels[I2]\n",
    "                s = np.arange(X.shape[0])\n",
    "                np.random.shuffle(s)\n",
    "                X2 = X[s]\n",
    "                y2 = y[s]\n",
    "                roc = []\n",
    "                prec = []\n",
    "                rec = []\n",
    "                f1 = []\n",
    "                kf = KFold(n_splits=split_size)\n",
    "                for train_index, test_index in kf.split(X2):\n",
    "                    X_train2, X_test2 = X2[train_index], X2[test_index]\n",
    "                    y_train2, y_test2 = y2[train_index], y2[test_index]\n",
    "                    #clf = MLPClassifier(verbose=1)\n",
    "                    #clf.fit(X_train2,y_train2)\n",
    "                    clf = RandomForestClassifier(random_state=1,verbose=1,n_estimators=15)\n",
    "                    clf.fit(X_train2,y_train2)\n",
    "\n",
    "                    pred = clf.predict(X_test2)\n",
    "\n",
    "\n",
    "                    roc.append(roc_auc_score(y_test2,pred, average='micro'))\n",
    "                    prec.append(precision_score(y_test2,pred, average='micro'))\n",
    "                    rec.append(recall_score(y_test2,pred, average='micro'))\n",
    "                    f1.append(f1_score(y_test2,pred, average='micro'))\n",
    "                \n",
    "                result = str(rep_size)+\",\"+str(walk_len)+\",\"+str(win_size)+\",\"+str(n_walk)+\",\"+str(np.mean(roc))+\",\"+str(np.mean(prec))+\",\"+str(np.mean(rec))+\",\"+str(np.mean(f1))+\"\\n\"\n",
    "                f= open(\"result_pairwisenode_protein_deepwalk.txt\",\"a+\")\n",
    "                f.write(result)\n",
    "                f.close()"
   ]
  },
  {
   "cell_type": "code",
   "execution_count": 59,
   "metadata": {},
   "outputs": [
    {
     "name": "stdout",
     "output_type": "stream",
     "text": [
      "protien_edge_embad_full_128_80_5_10.txt\n"
     ]
    },
    {
     "name": "stderr",
     "output_type": "stream",
     "text": [
      "[Parallel(n_jobs=1)]: Using backend SequentialBackend with 1 concurrent workers.\n",
      "[Parallel(n_jobs=1)]: Done  15 out of  15 | elapsed:   13.7s finished\n",
      "[Parallel(n_jobs=1)]: Using backend SequentialBackend with 1 concurrent workers.\n",
      "[Parallel(n_jobs=1)]: Done  15 out of  15 | elapsed:    0.2s finished\n",
      "[Parallel(n_jobs=1)]: Using backend SequentialBackend with 1 concurrent workers.\n",
      "[Parallel(n_jobs=1)]: Done  15 out of  15 | elapsed:   17.3s finished\n",
      "[Parallel(n_jobs=1)]: Using backend SequentialBackend with 1 concurrent workers.\n",
      "[Parallel(n_jobs=1)]: Done  15 out of  15 | elapsed:    0.2s finished\n"
     ]
    },
    {
     "name": "stdout",
     "output_type": "stream",
     "text": [
      "protien_edge_embad_full_128_80_20_10.txt\n"
     ]
    },
    {
     "name": "stderr",
     "output_type": "stream",
     "text": [
      "[Parallel(n_jobs=1)]: Using backend SequentialBackend with 1 concurrent workers.\n",
      "[Parallel(n_jobs=1)]: Done  15 out of  15 | elapsed:   15.3s finished\n",
      "[Parallel(n_jobs=1)]: Using backend SequentialBackend with 1 concurrent workers.\n",
      "[Parallel(n_jobs=1)]: Done  15 out of  15 | elapsed:    0.2s finished\n",
      "[Parallel(n_jobs=1)]: Using backend SequentialBackend with 1 concurrent workers.\n",
      "[Parallel(n_jobs=1)]: Done  15 out of  15 | elapsed:   12.7s finished\n",
      "[Parallel(n_jobs=1)]: Using backend SequentialBackend with 1 concurrent workers.\n",
      "[Parallel(n_jobs=1)]: Done  15 out of  15 | elapsed:    0.2s finished\n"
     ]
    }
   ],
   "source": [
    "\n",
    "rep_sizes = [128]\n",
    "walk_lens = [80]\n",
    "win_sizes = [5,20]\n",
    "n_walks = [10]\n",
    "for rep_size in rep_sizes:\n",
    "    for walk_len in walk_lens:\n",
    "        for win_size in win_sizes:\n",
    "            for n_walk in n_walks:\n",
    "                output_file = \"protien_edge_embad_full_\"+str(rep_size)+\"_\"+str(walk_len)+\"_\"+str(win_size)+\"_\"+str(n_walk)+\".txt\"\n",
    "                command = \"deepwalk --format edgelist --number-walks \" + str(n_walk) + \" --representation-size \" + str(rep_size) + \" --walk-length \" + str(walk_len) + \" --window-size \" + str(win_size) + \" --undirected true --input \" + protein_edge_file + \" --output \" + output_file + \" --workers 8\"\n",
    "                if not Path(output_file).is_file():\n",
    "                    os.system(command)\n",
    "                print(output_file)\n",
    "                node_embeddings = np.loadtxt(output_file,skiprows=1)\n",
    "                I1 = np.random.randint(0, node_embeddings.shape[0], size=(N))\n",
    "                I2 = np.random.randint(0, node_embeddings.shape[0], size=(N))\n",
    "\n",
    "                # Method 1\n",
    "                X = edge_similarity(node_embeddings[I1], node_embeddings[I2])\n",
    "\n",
    "                # Method 3\n",
    "                # X_train = np.concatenate((node_embeddings[I1], node_embeddings[I2]), axis=1)\n",
    "\n",
    "\n",
    "                y = node_labels[I1] == node_labels[I2]\n",
    "                s = np.arange(X.shape[0])\n",
    "                np.random.shuffle(s)\n",
    "                X2 = X[s]\n",
    "                y2 = y[s]\n",
    "                roc = []\n",
    "                prec = []\n",
    "                rec = []\n",
    "                f1 = []\n",
    "                kf = KFold(n_splits=split_size)\n",
    "                for train_index, test_index in kf.split(X2):\n",
    "                    X_train2, X_test2 = X2[train_index], X2[test_index]\n",
    "                    y_train2, y_test2 = y2[train_index], y2[test_index]\n",
    "                    #clf = MLPClassifier(verbose=1)\n",
    "                    #clf.fit(X_train2,y_train2)\n",
    "                    clf = RandomForestClassifier(random_state=1,verbose=1,n_estimators=15)\n",
    "                    clf.fit(X_train2,y_train2)\n",
    "\n",
    "                    pred = clf.predict(X_test2)\n",
    "\n",
    "\n",
    "                    roc.append(roc_auc_score(y_test2,pred, average='micro'))\n",
    "                    prec.append(precision_score(y_test2,pred, average='micro'))\n",
    "                    rec.append(recall_score(y_test2,pred, average='micro'))\n",
    "                    f1.append(f1_score(y_test2,pred, average='micro'))\n",
    "                \n",
    "                result = str(rep_size)+\",\"+str(walk_len)+\",\"+str(win_size)+\",\"+str(n_walk)+\",\"+str(np.mean(roc))+\",\"+str(np.mean(prec))+\",\"+str(np.mean(rec))+\",\"+str(np.mean(f1))+\"\\n\"\n",
    "                f= open(\"result_pairwisenode_protein_deepwalk.txt\",\"a+\")\n",
    "                f.write(result)\n",
    "                f.close()"
   ]
  },
  {
   "cell_type": "code",
   "execution_count": 60,
   "metadata": {},
   "outputs": [
    {
     "name": "stdout",
     "output_type": "stream",
     "text": [
      "protien_edge_embad_full_128_80_10_5.txt\n"
     ]
    },
    {
     "name": "stderr",
     "output_type": "stream",
     "text": [
      "[Parallel(n_jobs=1)]: Using backend SequentialBackend with 1 concurrent workers.\n",
      "[Parallel(n_jobs=1)]: Done  15 out of  15 | elapsed:   15.6s finished\n",
      "[Parallel(n_jobs=1)]: Using backend SequentialBackend with 1 concurrent workers.\n",
      "[Parallel(n_jobs=1)]: Done  15 out of  15 | elapsed:    0.2s finished\n",
      "[Parallel(n_jobs=1)]: Using backend SequentialBackend with 1 concurrent workers.\n",
      "[Parallel(n_jobs=1)]: Done  15 out of  15 | elapsed:   14.0s finished\n",
      "[Parallel(n_jobs=1)]: Using backend SequentialBackend with 1 concurrent workers.\n",
      "[Parallel(n_jobs=1)]: Done  15 out of  15 | elapsed:    0.2s finished\n"
     ]
    },
    {
     "name": "stdout",
     "output_type": "stream",
     "text": [
      "protien_edge_embad_full_128_80_10_50.txt\n"
     ]
    },
    {
     "name": "stderr",
     "output_type": "stream",
     "text": [
      "[Parallel(n_jobs=1)]: Using backend SequentialBackend with 1 concurrent workers.\n",
      "[Parallel(n_jobs=1)]: Done  15 out of  15 | elapsed:   11.7s finished\n",
      "[Parallel(n_jobs=1)]: Using backend SequentialBackend with 1 concurrent workers.\n",
      "[Parallel(n_jobs=1)]: Done  15 out of  15 | elapsed:    0.2s finished\n",
      "[Parallel(n_jobs=1)]: Using backend SequentialBackend with 1 concurrent workers.\n",
      "[Parallel(n_jobs=1)]: Done  15 out of  15 | elapsed:   12.7s finished\n",
      "[Parallel(n_jobs=1)]: Using backend SequentialBackend with 1 concurrent workers.\n",
      "[Parallel(n_jobs=1)]: Done  15 out of  15 | elapsed:    0.2s finished\n"
     ]
    }
   ],
   "source": [
    "rep_sizes = [128]\n",
    "walk_lens = [80]\n",
    "win_sizes = [10]\n",
    "n_walks = [5,50]\n",
    "for rep_size in rep_sizes:\n",
    "    for walk_len in walk_lens:\n",
    "        for win_size in win_sizes:\n",
    "            for n_walk in n_walks:\n",
    "                output_file = \"protien_edge_embad_full_\"+str(rep_size)+\"_\"+str(walk_len)+\"_\"+str(win_size)+\"_\"+str(n_walk)+\".txt\"\n",
    "                command = \"deepwalk --format edgelist --number-walks \" + str(n_walk) + \" --representation-size \" + str(rep_size) + \" --walk-length \" + str(walk_len) + \" --window-size \" + str(win_size) + \" --undirected true --input \" + protein_edge_file + \" --output \" + output_file + \" --workers 8\"\n",
    "                if not Path(output_file).is_file():\n",
    "                    os.system(command)\n",
    "                print(output_file)\n",
    "                node_embeddings = np.loadtxt(output_file,skiprows=1)\n",
    "                I1 = np.random.randint(0, node_embeddings.shape[0], size=(N))\n",
    "                I2 = np.random.randint(0, node_embeddings.shape[0], size=(N))\n",
    "\n",
    "                # Method 1\n",
    "                X = edge_similarity(node_embeddings[I1], node_embeddings[I2])\n",
    "\n",
    "                # Method 3\n",
    "                # X_train = np.concatenate((node_embeddings[I1], node_embeddings[I2]), axis=1)\n",
    "\n",
    "\n",
    "                y = node_labels[I1] == node_labels[I2]\n",
    "                s = np.arange(X.shape[0])\n",
    "                np.random.shuffle(s)\n",
    "                X2 = X[s]\n",
    "                y2 = y[s]\n",
    "                roc = []\n",
    "                prec = []\n",
    "                rec = []\n",
    "                f1 = []\n",
    "                kf = KFold(n_splits=split_size)\n",
    "                for train_index, test_index in kf.split(X2):\n",
    "                    X_train2, X_test2 = X2[train_index], X2[test_index]\n",
    "                    y_train2, y_test2 = y2[train_index], y2[test_index]\n",
    "                    #clf = MLPClassifier(verbose=1)\n",
    "                    #clf.fit(X_train2,y_train2)\n",
    "                    clf = RandomForestClassifier(random_state=1,verbose=1,n_estimators=15)\n",
    "                    clf.fit(X_train2,y_train2)\n",
    "\n",
    "                    pred = clf.predict(X_test2)\n",
    "\n",
    "\n",
    "                    roc.append(roc_auc_score(y_test2,pred, average='micro'))\n",
    "                    prec.append(precision_score(y_test2,pred, average='micro'))\n",
    "                    rec.append(recall_score(y_test2,pred, average='micro'))\n",
    "                    f1.append(f1_score(y_test2,pred, average='micro'))\n",
    "                \n",
    "                result = str(rep_size)+\",\"+str(walk_len)+\",\"+str(win_size)+\",\"+str(n_walk)+\",\"+str(np.mean(roc))+\",\"+str(np.mean(prec))+\",\"+str(np.mean(rec))+\",\"+str(np.mean(f1))+\"\\n\"\n",
    "                f= open(\"result_pairwisenode_protein_deepwalk.txt\",\"a+\")\n",
    "                f.write(result)\n",
    "                f.close()"
   ]
  },
  {
   "cell_type": "code",
   "execution_count": null,
   "metadata": {},
   "outputs": [],
   "source": []
  }
 ],
 "metadata": {
  "kernelspec": {
   "display_name": "Python 3",
   "language": "python",
   "name": "python3"
  },
  "language_info": {
   "codemirror_mode": {
    "name": "ipython",
    "version": 3
   },
   "file_extension": ".py",
   "mimetype": "text/x-python",
   "name": "python",
   "nbconvert_exporter": "python",
   "pygments_lexer": "ipython3",
   "version": "3.7.4"
  }
 },
 "nbformat": 4,
 "nbformat_minor": 2
}
