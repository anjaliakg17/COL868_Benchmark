{
 "cells": [
  {
   "cell_type": "code",
   "execution_count": 3,
   "metadata": {},
   "outputs": [],
   "source": [
    "import json\n",
    "from networkx.readwrite import json_graph\n",
    "import os\n",
    "import numpy as np\n",
    "import networkx as nx\n",
    "\n",
    "import stellargraph as sg\n",
    "from stellargraph.data import EdgeSplitter"
   ]
  },
  {
   "cell_type": "code",
   "execution_count": 4,
   "metadata": {},
   "outputs": [],
   "source": [
    "from sklearn.model_selection import train_test_split\n",
    "from sklearn.linear_model import LogisticRegression\n",
    "from sklearn.linear_model import LinearRegression\n",
    "from sklearn.svm import LinearSVC\n",
    "from sklearn.ensemble import RandomForestClassifier, GradientBoostingClassifier, ExtraTreesClassifier \n",
    "#from sklearn.ensemble import BaggingClassifier, AdaBoostClassifier, StackingClassifier, VotingClassifier\n",
    "from sklearn.model_selection import KFold\n",
    "from sklearn.metrics import classification_report,confusion_matrix,roc_auc_score\n",
    "from sklearn.metrics import precision_score, recall_score,f1_score"
   ]
  },
  {
   "cell_type": "code",
   "execution_count": 5,
   "metadata": {},
   "outputs": [],
   "source": [
    "G=nx.read_edgelist('loc-brightkite_edges.txt')"
   ]
  },
  {
   "cell_type": "code",
   "execution_count": 6,
   "metadata": {},
   "outputs": [
    {
     "name": "stdout",
     "output_type": "stream",
     "text": [
      "Name: \n",
      "Type: Graph\n",
      "Number of nodes: 58228\n",
      "Number of edges: 214078\n",
      "Average degree:   7.3531\n"
     ]
    }
   ],
   "source": [
    "print(nx.info(G))"
   ]
  },
  {
   "cell_type": "code",
   "execution_count": 7,
   "metadata": {},
   "outputs": [],
   "source": [
    "G = G.to_undirected()"
   ]
  },
  {
   "cell_type": "code",
   "execution_count": 82,
   "metadata": {},
   "outputs": [
    {
     "name": "stdout",
     "output_type": "stream",
     "text": [
      "** Sampled 149854 positive and 149854 negative edges. **\n"
     ]
    }
   ],
   "source": [
    "edge_splitter_test = EdgeSplitter(G)\n",
    "test_size = 0.7\n",
    "G2, edge_ids_test2, edge_labels_test2 = edge_splitter_test.train_test_split(\n",
    "    p=test_size, method=\"global\", keep_connected=True\n",
    ")"
   ]
  },
  {
   "cell_type": "code",
   "execution_count": 84,
   "metadata": {},
   "outputs": [],
   "source": [
    "n2 = int(edge_ids_test2.shape[0])"
   ]
  },
  {
   "cell_type": "code",
   "execution_count": 87,
   "metadata": {},
   "outputs": [
    {
     "name": "stdout",
     "output_type": "stream",
     "text": [
      "** Sampled 107039 positive and 107039 negative edges. **\n"
     ]
    }
   ],
   "source": [
    "edge_splitter_test = EdgeSplitter(G)\n",
    "test_size = 0.5\n",
    "G_train, edge_ids_test_temp, edge_labels_test_temp = edge_splitter_test.train_test_split(\n",
    "    p=test_size, method=\"global\", keep_connected=True\n",
    ")"
   ]
  },
  {
   "cell_type": "code",
   "execution_count": 89,
   "metadata": {},
   "outputs": [],
   "source": [
    "neg_sample_size = int(edge_ids_test_temp.shape[0]/2)"
   ]
  },
  {
   "cell_type": "code",
   "execution_count": 110,
   "metadata": {},
   "outputs": [],
   "source": [
    "train_pos_edges_cnt = len(G_train.edges())\n",
    "edge_ids_train = np.zeros((2*train_pos_edges_cnt,2))\n",
    "edge_labels_train = np.zeros((2*train_pos_edges_cnt,))\n",
    "\n",
    "edge_ids_train[0:train_pos_edges_cnt] = np.array(G_train.edges())\n",
    "edge_ids_train[train_pos_edges_cnt+1:] = edge_ids_test2[-neg_sample_size+1:]\n",
    "\n",
    "edge_labels_train[0:train_pos_edges_cnt] = edge_labels_test2[0:train_pos_edges_cnt]"
   ]
  },
  {
   "cell_type": "code",
   "execution_count": 78,
   "metadata": {},
   "outputs": [],
   "source": [
    "test_size_final = (int(n2/2)-train_pos_edges_cnt)*2\n",
    "edge_ids_test = np.zeros((test_size_final,2))\n",
    "edge_labels_test = np.zeros((test_size_final,))\n",
    "edge_ids_test[0:int(test_size_final/2)] = edge_ids_test_temp[0:int(test_size_final/2)]\n",
    "edge_ids_test[int(test_size_final/2)+1:] = edge_ids_test2[int(n2/2)+1:n2-neg_sample_size]\n",
    "edge_labels_test[0:int(test_size_final/2)] = edge_labels_test_temp[0:int(test_size_final/2)]"
   ]
  },
  {
   "cell_type": "code",
   "execution_count": 92,
   "metadata": {},
   "outputs": [],
   "source": [
    "edges = [n for n in G_train.edges()]\n",
    "brightkite_edge_file_train = \"brightkite_edge_list_train.txt\"\n",
    "with open(brightkite_edge_file_train, 'w') as fp:\n",
    "    fp.write('\\n'.join('{} {}'.format(x[0],x[1]) for x in edges))"
   ]
  },
  {
   "cell_type": "code",
   "execution_count": 111,
   "metadata": {},
   "outputs": [],
   "source": [
    "brightkite_edge_file_test = \"brightkite_edge_list_test_with_pos_neg.txt\"\n",
    "with open(brightkite_edge_file_test, 'w') as fp:\n",
    "    fp.write('\\n'.join('{} {}'.format(x[0],x[1]) for x in edge_ids_test))"
   ]
  },
  {
   "cell_type": "code",
   "execution_count": 94,
   "metadata": {},
   "outputs": [],
   "source": [
    "rep_size = 64\n",
    "walk_len = 40\n",
    "win_size = 5\n",
    "n_walk = 10 \n",
    "output_file = \"brightkite_embad.txt\""
   ]
  },
  {
   "cell_type": "code",
   "execution_count": 95,
   "metadata": {},
   "outputs": [],
   "source": [
    "command = \"deepwalk --format edgelist --number-walks \" + str(n_walk) + \" --representation-size \" + str(rep_size) + \" --walk-length \" + str(walk_len) + \" --window-size \" + str(win_size) + \" --undirected true --input \" + brightkite_edge_file_train + \" --output \" + output_file + \" --workers 8\"\n"
   ]
  },
  {
   "cell_type": "code",
   "execution_count": 96,
   "metadata": {},
   "outputs": [
    {
     "data": {
      "text/plain": [
       "0"
      ]
     },
     "execution_count": 96,
     "metadata": {},
     "output_type": "execute_result"
    }
   ],
   "source": [
    "os.system(command)"
   ]
  },
  {
   "cell_type": "code",
   "execution_count": 97,
   "metadata": {},
   "outputs": [],
   "source": [
    "data_emb = np.loadtxt(output_file,skiprows=1)\n",
    "emb_dim = len(data_emb[0])-1"
   ]
  },
  {
   "cell_type": "code",
   "execution_count": 98,
   "metadata": {},
   "outputs": [],
   "source": [
    "embedding = np.zeros((len(G_train.nodes()),emb_dim))"
   ]
  },
  {
   "cell_type": "code",
   "execution_count": 99,
   "metadata": {},
   "outputs": [],
   "source": [
    "for idx in range(data_emb.shape[0]):\n",
    "    embedding[int(data_emb[idx][0])] = data_emb[idx][1:]"
   ]
  },
  {
   "cell_type": "code",
   "execution_count": 115,
   "metadata": {},
   "outputs": [],
   "source": [
    "X = np.zeros((edge_ids_train.shape[0],emb_dim))\n",
    "y = edge_labels_train\n",
    "X_test = np.zeros((edge_ids_test.shape[0],emb_dim))\n",
    "y_test = edge_labels_test"
   ]
  },
  {
   "cell_type": "code",
   "execution_count": 116,
   "metadata": {},
   "outputs": [],
   "source": [
    "def agg_fun1(x,y):\n",
    "    return (x+y)/2\n",
    "def agg_fun2(x,y):\n",
    "    return (x*y)/2\n",
    "def agg_fun3(x,y):\n",
    "    return np.abs(x-y)\n",
    "def agg_fun4(x,y):\n",
    "    return np.square(x-y)"
   ]
  },
  {
   "cell_type": "code",
   "execution_count": 138,
   "metadata": {},
   "outputs": [],
   "source": [
    "choice = 4"
   ]
  },
  {
   "cell_type": "code",
   "execution_count": 139,
   "metadata": {},
   "outputs": [],
   "source": [
    "idx = 0\n",
    "for e in edge_ids_train:\n",
    "    if choice == 1:\n",
    "        X[idx] = agg_fun1(embedding[int(e[0])], embedding[int(e[1])])\n",
    "    if choice == 2:\n",
    "        X[idx] = agg_fun2(embedding[int(e[0])], embedding[int(e[1])])\n",
    "    if choice == 3:\n",
    "        X[idx] = agg_fun3(embedding[int(e[0])], embedding[int(e[1])])\n",
    "    if choice == 4:\n",
    "        X[idx] = agg_fun4(embedding[int(e[0])], embedding[int(e[1])])\n",
    "    idx += 1\n",
    "    "
   ]
  },
  {
   "cell_type": "code",
   "execution_count": 140,
   "metadata": {},
   "outputs": [],
   "source": [
    "s = np.arange(X.shape[0])\n",
    "np.random.shuffle(s)\n",
    "X_train = X[s]\n",
    "y_train = y[s]"
   ]
  },
  {
   "cell_type": "code",
   "execution_count": 141,
   "metadata": {},
   "outputs": [],
   "source": [
    "idx = 0\n",
    "for e in edge_ids_test:\n",
    "    if choice == 1:\n",
    "        X_test[idx] = agg_fun1(embedding[int(e[0])], embedding[int(e[1])])\n",
    "    if choice == 2:\n",
    "        X_test[idx] = agg_fun2(embedding[int(e[0])], embedding[int(e[1])])\n",
    "    if choice == 3:\n",
    "        X_test[idx] = agg_fun3(embedding[int(e[0])], embedding[int(e[1])])\n",
    "    if choice == 4:\n",
    "        X_test[idx] = agg_fun4(embedding[int(e[0])], embedding[int(e[1])])\n",
    "        \n",
    "    idx += 1\n",
    "    "
   ]
  },
  {
   "cell_type": "code",
   "execution_count": 142,
   "metadata": {},
   "outputs": [],
   "source": [
    "clf = LogisticRegression(penalty='l2', solver='saga',class_weight='balanced')\n",
    "clf.fit(X_train,y_train)\n",
    "pred = clf.predict(X_test)"
   ]
  },
  {
   "cell_type": "code",
   "execution_count": 143,
   "metadata": {},
   "outputs": [],
   "source": [
    "roc = roc_auc_score(y_test,pred)\n",
    "prec = precision_score(y_test,pred)\n",
    "rec = recall_score(y_test,pred)\n",
    "f1 = f1_score(y_test,pred)"
   ]
  },
  {
   "cell_type": "code",
   "execution_count": 144,
   "metadata": {},
   "outputs": [
    {
     "name": "stdout",
     "output_type": "stream",
     "text": [
      "0.8863311503283848,0.9630998376168879,0.8034454731453021,0.8760581458127477, agg_fun4\n",
      "\n"
     ]
    }
   ],
   "source": [
    "result = str(roc)+\",\"+str(prec)+\",\"+str(rec)+\",\"+str(f1)+\", agg_fun\"+str(choice)+\"\\n\"\n",
    "f= open(\"result_linkpred_brightkite_deepwalk.txt\",\"a+\")\n",
    "f.write(result)\n",
    "f.close()\n",
    "print(result)"
   ]
  },
  {
   "cell_type": "code",
   "execution_count": 57,
   "metadata": {},
   "outputs": [],
   "source": [
    "s = np.arange(X.shape[0])\n",
    "np.random.shuffle(s)\n",
    "X2 = X[s]\n",
    "y2 = y[s]\n",
    "roc = []\n",
    "prec = []\n",
    "rec = []\n",
    "f1 = []\n",
    "kf = KFold(n_splits=5)\n",
    "for train_index, test_index in kf.split(X2):\n",
    "    X_train2, X_test2 = X2[train_index], X2[test_index]\n",
    "    y_train2, y_test2 = y2[train_index], y2[test_index]\n",
    "    clf = LogisticRegression(penalty='l2', solver='saga',class_weight='balanced')\n",
    "    clf.fit(X_train2,y_train2)\n",
    "    pred = clf.predict(X_test)\n",
    "        \n",
    "    roc.append(roc_auc_score(y_test,pred))\n",
    "    prec.append(precision_score(y_test,pred))\n",
    "    rec.append(recall_score(y_test,pred))\n",
    "    f1.append(f1_score(y_test,pred))"
   ]
  },
  {
   "cell_type": "code",
   "execution_count": 58,
   "metadata": {},
   "outputs": [
    {
     "name": "stdout",
     "output_type": "stream",
     "text": [
      "0.7797772753601526 0.7604220297684171 0.8169397783964574 0.7876680942834602\n"
     ]
    }
   ],
   "source": [
    "print(np.mean(roc),np.mean(prec),np.mean(rec),np.mean(f1))"
   ]
  },
  {
   "cell_type": "code",
   "execution_count": 59,
   "metadata": {},
   "outputs": [],
   "source": [
    "X_comb = np.row_stack((X,X_test))\n",
    "y_comb = np.array(list(y) + list(y_test))\n",
    "s = np.arange(X_comb.shape[0])\n",
    "np.random.shuffle(s)\n",
    "X2 = X_comb[s]\n",
    "y2 = y_comb[s]\n",
    "roc = []\n",
    "prec = []\n",
    "rec = []\n",
    "f1 = []\n",
    "kf = KFold(n_splits=5)\n",
    "for train_index, test_index in kf.split(X2):\n",
    "    X_train2, X_test2 = X2[train_index], X2[test_index]\n",
    "    y_train2, y_test2 = y2[train_index], y2[test_index]\n",
    "    clf = LogisticRegression(penalty='l2', solver='saga',class_weight='balanced')\n",
    "    clf.fit(X_train2,y_train2)\n",
    "    pred = clf.predict(X_test2)\n",
    "        \n",
    "    roc.append(roc_auc_score(y_test2,pred))\n",
    "    prec.append(precision_score(y_test2,pred))\n",
    "    rec.append(recall_score(y_test2,pred))\n",
    "    f1.append(f1_score(y_test2,pred))"
   ]
  },
  {
   "cell_type": "code",
   "execution_count": 60,
   "metadata": {},
   "outputs": [
    {
     "name": "stdout",
     "output_type": "stream",
     "text": [
      "0.78388719827073 0.7603565687250592 0.8290657034307121 0.7932221707374524\n"
     ]
    }
   ],
   "source": [
    "print(np.mean(roc),np.mean(prec),np.mean(rec),np.mean(f1))"
   ]
  },
  {
   "cell_type": "code",
   "execution_count": null,
   "metadata": {},
   "outputs": [],
   "source": []
  }
 ],
 "metadata": {
  "kernelspec": {
   "display_name": "Python 3",
   "language": "python",
   "name": "python3"
  },
  "language_info": {
   "codemirror_mode": {
    "name": "ipython",
    "version": 3
   },
   "file_extension": ".py",
   "mimetype": "text/x-python",
   "name": "python",
   "nbconvert_exporter": "python",
   "pygments_lexer": "ipython3",
   "version": "3.7.4"
  }
 },
 "nbformat": 4,
 "nbformat_minor": 2
}
