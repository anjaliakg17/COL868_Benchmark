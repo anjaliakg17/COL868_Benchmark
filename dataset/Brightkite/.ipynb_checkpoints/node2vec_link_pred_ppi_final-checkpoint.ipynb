{
 "cells": [
  {
   "cell_type": "code",
   "execution_count": 17,
   "metadata": {},
   "outputs": [],
   "source": [
    "import json\n",
    "from networkx.readwrite import json_graph\n",
    "import os\n",
    "import numpy as np\n",
    "import networkx as nx\n",
    "\n",
    "import stellargraph as sg\n",
    "from stellargraph.data import EdgeSplitter\n",
    "from node2vec import Node2Vec"
   ]
  },
  {
   "cell_type": "code",
   "execution_count": 2,
   "metadata": {},
   "outputs": [],
   "source": [
    "from sklearn.model_selection import train_test_split\n",
    "from sklearn.linear_model import LogisticRegression\n",
    "from sklearn.linear_model import LinearRegression\n",
    "from sklearn.svm import LinearSVC\n",
    "from sklearn.ensemble import RandomForestClassifier, GradientBoostingClassifier, ExtraTreesClassifier \n",
    "#from sklearn.ensemble import BaggingClassifier, AdaBoostClassifier, StackingClassifier, VotingClassifier\n",
    "from sklearn.model_selection import KFold\n",
    "from sklearn.metrics import classification_report,confusion_matrix,roc_auc_score\n",
    "from sklearn.metrics import precision_score, recall_score,f1_score"
   ]
  },
  {
   "cell_type": "code",
   "execution_count": 3,
   "metadata": {},
   "outputs": [],
   "source": [
    "G=nx.read_edgelist('loc-brightkite_edges.txt')"
   ]
  },
  {
   "cell_type": "code",
   "execution_count": 4,
   "metadata": {},
   "outputs": [
    {
     "name": "stdout",
     "output_type": "stream",
     "text": [
      "Name: \n",
      "Type: Graph\n",
      "Number of nodes: 58228\n",
      "Number of edges: 214078\n",
      "Average degree:   7.3531\n"
     ]
    }
   ],
   "source": [
    "print(nx.info(G))"
   ]
  },
  {
   "cell_type": "code",
   "execution_count": 5,
   "metadata": {},
   "outputs": [],
   "source": [
    "G = G.to_undirected()"
   ]
  },
  {
   "cell_type": "code",
   "execution_count": 6,
   "metadata": {},
   "outputs": [
    {
     "name": "stdout",
     "output_type": "stream",
     "text": [
      "** Sampled 149854 positive and 149854 negative edges. **\n"
     ]
    }
   ],
   "source": [
    "edge_splitter_test = EdgeSplitter(G)\n",
    "test_size = 0.7\n",
    "G2, edge_ids_test2, edge_labels_test2 = edge_splitter_test.train_test_split(\n",
    "    p=test_size, method=\"global\", keep_connected=True\n",
    ")"
   ]
  },
  {
   "cell_type": "code",
   "execution_count": 7,
   "metadata": {},
   "outputs": [],
   "source": [
    "n2 = int(edge_ids_test2.shape[0])"
   ]
  },
  {
   "cell_type": "code",
   "execution_count": 8,
   "metadata": {},
   "outputs": [
    {
     "name": "stdout",
     "output_type": "stream",
     "text": [
      "** Sampled 107039 positive and 107039 negative edges. **\n"
     ]
    }
   ],
   "source": [
    "edge_splitter_test = EdgeSplitter(G)\n",
    "test_size = 0.5\n",
    "G_train, edge_ids_test_temp, edge_labels_test_temp = edge_splitter_test.train_test_split(\n",
    "    p=test_size, method=\"global\", keep_connected=True\n",
    ")"
   ]
  },
  {
   "cell_type": "code",
   "execution_count": 9,
   "metadata": {},
   "outputs": [],
   "source": [
    "neg_sample_size = int(edge_ids_test_temp.shape[0]/2)"
   ]
  },
  {
   "cell_type": "code",
   "execution_count": 10,
   "metadata": {},
   "outputs": [],
   "source": [
    "train_pos_edges_cnt = len(G_train.edges())\n",
    "edge_ids_train = np.zeros((2*train_pos_edges_cnt,2))\n",
    "edge_labels_train = np.zeros((2*train_pos_edges_cnt,))\n",
    "edge_ids_train[0:train_pos_edges_cnt] = np.array(G_train.edges())\n",
    "edge_ids_train[train_pos_edges_cnt+1:] = edge_ids_test2[-neg_sample_size+1:]\n",
    "\n",
    "edge_labels_train[0:train_pos_edges_cnt] = edge_labels_test2[0:train_pos_edges_cnt]"
   ]
  },
  {
   "cell_type": "code",
   "execution_count": 11,
   "metadata": {},
   "outputs": [],
   "source": [
    "test_size_final = (int(n2/2)-train_pos_edges_cnt)*2\n",
    "edge_ids_test = np.zeros((test_size_final,2))\n",
    "edge_labels_test = np.zeros((test_size_final,))\n",
    "edge_ids_test[0:int(test_size_final/2)] = edge_ids_test_temp[0:int(test_size_final/2)]\n",
    "edge_ids_test[int(test_size_final/2)+1:] = edge_ids_test2[int(n2/2)+1:n2-neg_sample_size]\n",
    "edge_labels_test[0:int(test_size_final/2)] = edge_labels_test_temp[0:int(test_size_final/2)]"
   ]
  },
  {
   "cell_type": "code",
   "execution_count": 12,
   "metadata": {},
   "outputs": [],
   "source": [
    "edges = [n for n in G_train.edges()]\n",
    "brightkite_edge_file_train = \"brightkite_edge_list_train.txt\"\n",
    "with open(brightkite_edge_file_train, 'w') as fp:\n",
    "    fp.write('\\n'.join('{} {}'.format(x[0],x[1]) for x in edges))"
   ]
  },
  {
   "cell_type": "code",
   "execution_count": 13,
   "metadata": {},
   "outputs": [],
   "source": [
    "brightkite_edge_file_test = \"brightkite_edge_list_test_with_pos_neg.txt\"\n",
    "with open(brightkite_edge_file_test, 'w') as fp:\n",
    "    fp.write('\\n'.join('{} {}'.format(x[0],x[1]) for x in edge_ids_test))"
   ]
  },
  {
   "cell_type": "code",
   "execution_count": 20,
   "metadata": {},
   "outputs": [],
   "source": [
    "EMBEDDING_DIM = 64\n",
    "WALK_LENGTH = 10\n",
    "NUM_WALK = 40\n",
    "WORKER = 4\n",
    "P = 1\n",
    "Q = 1\n",
    "output_file = \"node2vec_brightkite_embad.txt\""
   ]
  },
  {
   "cell_type": "code",
   "execution_count": 21,
   "metadata": {},
   "outputs": [
    {
     "data": {
      "application/vnd.jupyter.widget-view+json": {
       "model_id": "122e370074314b48a39613c7c295992d",
       "version_major": 2,
       "version_minor": 0
      },
      "text/plain": [
       "HBox(children=(IntProgress(value=0, description='Computing transition probabilities', max=58228, style=Progres…"
      ]
     },
     "metadata": {},
     "output_type": "display_data"
    },
    {
     "name": "stderr",
     "output_type": "stream",
     "text": [
      "Generating walks (CPU: 1):   0%|          | 0/10 [00:00<?, ?it/s]\n",
      "Generating walks (CPU: 2):   0%|          | 0/10 [00:00<?, ?it/s]\u001b[A\n",
      "\n"
     ]
    },
    {
     "name": "stdout",
     "output_type": "stream",
     "text": [
      "\n"
     ]
    },
    {
     "name": "stderr",
     "output_type": "stream",
     "text": [
      "Generating walks (CPU: 3):   0%|          | 0/10 [00:00<?, ?it/s]\u001b[A\u001b[A\n",
      "\n",
      "\n",
      "Generating walks (CPU: 4):   0%|          | 0/10 [00:00<?, ?it/s]\u001b[A\u001b[A\u001b[A\n",
      "Generating walks (CPU: 1):  20%|██        | 2/10 [02:51<11:24, 85.51s/it]\u001b[A\n",
      "\n",
      "Generating walks (CPU: 3):  20%|██        | 2/10 [02:50<11:23, 85.46s/it]\u001b[A\u001b[A\n",
      "\n",
      "\n",
      "Generating walks (CPU: 1):  30%|███       | 3/10 [05:48<13:10, 112.95s/it][A\u001b[A\u001b[A\n",
      "Generating walks (CPU: 2):  30%|███       | 3/10 [05:48<13:10, 112.97s/it]\u001b[A\n",
      "\n",
      "\n",
      "Generating walks (CPU: 4):  30%|███       | 3/10 [05:49<13:13, 113.30s/it]\u001b[A\u001b[A\u001b[A\n",
      "\n",
      "Generating walks (CPU: 3):  30%|███       | 3/10 [05:49<13:13, 113.42s/it]\u001b[A\u001b[A\n",
      "Generating walks (CPU: 1):  40%|████      | 4/10 [08:35<12:55, 129.26s/it]\u001b[A\n",
      "\n",
      "\n",
      "Generating walks (CPU: 4):  40%|████      | 4/10 [08:36<12:56, 129.50s/it]\u001b[A\u001b[A\u001b[A\n",
      "\n",
      "Generating walks (CPU: 3):  40%|████      | 4/10 [08:37<12:58, 129.76s/it]\u001b[A\u001b[A\n",
      "Generating walks (CPU: 1):  50%|█████     | 5/10 [11:22<11:43, 140.72s/it]\u001b[A\n",
      "\n",
      "Generating walks (CPU: 3):  50%|█████     | 5/10 [11:23<11:42, 140.51s/it]\u001b[A\u001b[A\n",
      "\n",
      "\n",
      "Generating walks (CPU: 1):  60%|██████    | 6/10 [14:09<09:53, 148.41s/it]\u001b[A\u001b[A\u001b[A\n",
      "Generating walks (CPU: 2):  60%|██████    | 6/10 [14:10<09:55, 148.77s/it]\u001b[A\n",
      "\n",
      "\n",
      "Generating walks (CPU: 4):  60%|██████    | 6/10 [14:10<09:54, 148.74s/it]\u001b[A\u001b[A\u001b[A\n",
      "\n",
      "Generating walks (CPU: 1):  70%|███████   | 7/10 [16:50<07:37, 152.41s/it]\u001b[A\u001b[A\n",
      "Generating walks (CPU: 2):  70%|███████   | 7/10 [16:52<07:39, 153.00s/it]\u001b[A\n",
      "\n",
      "\n",
      "Generating walks (CPU: 4):  70%|███████   | 7/10 [16:52<07:38, 152.72s/it]\u001b[A\u001b[A\u001b[A\n",
      "\n",
      "Generating walks (CPU: 1):  80%|████████  | 8/10 [19:36<05:12, 156.49s/it]\u001b[A\u001b[A\n",
      "Generating walks (CPU: 2):  80%|████████  | 8/10 [19:39<05:13, 156.96s/it]\u001b[A\n",
      "\n",
      "\n",
      "Generating walks (CPU: 4):  80%|████████  | 8/10 [19:39<05:13, 156.97s/it]\u001b[A\u001b[A\u001b[A\n",
      "\n",
      "Generating walks (CPU: 1):  90%|█████████ | 9/10 [22:17<02:37, 157.63s/it]\u001b[A\u001b[A\n",
      "Generating walks (CPU: 2):  90%|█████████ | 9/10 [22:20<02:38, 158.35s/it]\u001b[A\n",
      "\n",
      "\n",
      "Generating walks (CPU: 4):  90%|█████████ | 9/10 [22:21<02:38, 158.30s/it]\u001b[A\u001b[A\u001b[A\n",
      "\n",
      "Generating walks (CPU: 1): 100%|██████████| 10/10 [25:06<00:00, 161.03s/it][A\u001b[A\n",
      "Generating walks (CPU: 2): 100%|██████████| 10/10 [25:20<00:00, 164.69s/it]\u001b[A\n",
      "\n",
      "\n",
      "Generating walks (CPU: 4): 100%|██████████| 10/10 [25:21<00:00, 164.96s/it]\u001b[A\u001b[A\u001b[A\n",
      "\n",
      "Generating walks (CPU: 3): 100%|██████████| 10/10 [25:23<00:00, 165.02s/it]\u001b[A\u001b[A\n",
      "\n",
      "\n",
      "\u001b[A\u001b[A\u001b[A                                                                  \n",
      "\n",
      "\u001b[A\u001b[A                                                                     \n",
      "Generating walks (CPU: 1): 100%|██████████| 10/10 [28:08<00:00, 168.86s/it]\n",
      "Generating walks (CPU: 4): 100%|██████████| 10/10 [28:12<00:00, 169.21s/it]\n",
      "\n",
      "Generating walks (CPU: 2): 100%|██████████| 10/10 [28:12<00:00, 169.26s/it]\n",
      "Generating walks (CPU: 3): 100%|██████████| 10/10 [28:13<00:00, 169.32s/it]\n"
     ]
    }
   ],
   "source": [
    "node2vec = Node2Vec(G_train, dimensions=EMBEDDING_DIM, walk_length=WALK_LENGTH, num_walks=NUM_WALK, workers=WORKER, p = P, q = Q, temp_folder=\"tmp/\")"
   ]
  },
  {
   "cell_type": "code",
   "execution_count": 22,
   "metadata": {},
   "outputs": [],
   "source": [
    "model = node2vec.fit(window=10, min_count=1, batch_words=4)"
   ]
  },
  {
   "cell_type": "code",
   "execution_count": 23,
   "metadata": {},
   "outputs": [],
   "source": [
    "filename = \"brightkite_node2vec_embeddings_\"+str(EMBEDDING_DIM)+\"_\"+str(WALK_LENGTH)+\"_\"+str(NUM_WALKS)+str(P)+str(Q)+\".emb\"\n",
    "model.wv.save_word2vec_format(filename)"
   ]
  },
  {
   "cell_type": "code",
   "execution_count": 24,
   "metadata": {},
   "outputs": [],
   "source": [
    "data_emb = np.loadtxt(filename,skiprows=1)\n",
    "emb_dim = len(data_emb[0])-1"
   ]
  },
  {
   "cell_type": "code",
   "execution_count": 25,
   "metadata": {},
   "outputs": [],
   "source": [
    "embedding = np.zeros((len(G_train.nodes()),emb_dim))"
   ]
  },
  {
   "cell_type": "code",
   "execution_count": 26,
   "metadata": {},
   "outputs": [],
   "source": [
    "for idx in range(data_emb.shape[0]):\n",
    "    embedding[int(data_emb[idx][0])] = data_emb[idx][1:]"
   ]
  },
  {
   "cell_type": "code",
   "execution_count": 27,
   "metadata": {},
   "outputs": [],
   "source": [
    "X = np.zeros((edge_ids_train.shape[0],emb_dim))\n",
    "y = edge_labels_train\n",
    "X_test = np.zeros((edge_ids_test.shape[0],emb_dim))\n",
    "y_test = edge_labels_test"
   ]
  },
  {
   "cell_type": "code",
   "execution_count": 28,
   "metadata": {},
   "outputs": [],
   "source": [
    "def agg_fun1(x,y):\n",
    "    return (x+y)/2\n",
    "def agg_fun2(x,y):\n",
    "    return (x*y)/2\n",
    "def agg_fun3(x,y):\n",
    "    return np.abs(x-y)\n",
    "def agg_fun4(x,y):\n",
    "    return np.square(x-y)"
   ]
  },
  {
   "cell_type": "code",
   "execution_count": 51,
   "metadata": {},
   "outputs": [],
   "source": [
    "choice = 4"
   ]
  },
  {
   "cell_type": "code",
   "execution_count": 52,
   "metadata": {},
   "outputs": [],
   "source": [
    "idx = 0\n",
    "for e in edge_ids_train:\n",
    "    if choice ==1:\n",
    "        X[idx] = agg_fun1(embedding[int(e[0])], embedding[int(e[1])])\n",
    "    if choice ==2:\n",
    "        X[idx] = agg_fun2(embedding[int(e[0])], embedding[int(e[1])])\n",
    "    if choice ==3:\n",
    "        X[idx] = agg_fun3(embedding[int(e[0])], embedding[int(e[1])])\n",
    "    if choice ==4:\n",
    "        X[idx] = agg_fun4(embedding[int(e[0])], embedding[int(e[1])])\n",
    "    idx += 1\n",
    "    "
   ]
  },
  {
   "cell_type": "code",
   "execution_count": 53,
   "metadata": {},
   "outputs": [],
   "source": [
    "s = np.arange(X.shape[0])\n",
    "np.random.shuffle(s)\n",
    "X_train = X[s]\n",
    "y_train = y[s]"
   ]
  },
  {
   "cell_type": "code",
   "execution_count": 54,
   "metadata": {},
   "outputs": [],
   "source": [
    "idx = 0\n",
    "for e in edge_ids_test:\n",
    "    if choice ==1:\n",
    "        X_test[idx] = agg_fun1(embedding[int(e[0])], embedding[int(e[1])])\n",
    "    if choice ==2:\n",
    "        X_test[idx] = agg_fun2(embedding[int(e[0])], embedding[int(e[1])])\n",
    "    if choice ==3:\n",
    "        X_test[idx] = agg_fun3(embedding[int(e[0])], embedding[int(e[1])])\n",
    "    if choice ==4:\n",
    "        X_test[idx] = agg_fun4(embedding[int(e[0])], embedding[int(e[1])])\n",
    "    idx += 1\n",
    "    "
   ]
  },
  {
   "cell_type": "code",
   "execution_count": 55,
   "metadata": {},
   "outputs": [],
   "source": [
    "clf = LogisticRegression(penalty='l2', solver='saga',class_weight='balanced')\n",
    "clf.fit(X_train,y_train)\n",
    "pred = clf.predict(X_test)"
   ]
  },
  {
   "cell_type": "code",
   "execution_count": 56,
   "metadata": {},
   "outputs": [],
   "source": [
    "roc = roc_auc_score(y_test,pred)\n",
    "prec = precision_score(y_test,pred)\n",
    "rec = recall_score(y_test,pred)\n",
    "f1 = f1_score(y_test,pred)"
   ]
  },
  {
   "cell_type": "code",
   "execution_count": 57,
   "metadata": {},
   "outputs": [
    {
     "name": "stdout",
     "output_type": "stream",
     "text": [
      "0.7487212425551792,0.9872346266471449,0.5039588929113629,0.6672851819207991, agg_fun4\n",
      "\n"
     ]
    }
   ],
   "source": [
    "result = str(roc)+\",\"+str(prec)+\",\"+str(rec)+\",\"+str(f1)+\", agg_fun\"+str(choice)+\"\\n\"\n",
    "f= open(\"result_linkpred_brightkite_node2vec.txt\",\"a+\")\n",
    "f.write(result)\n",
    "f.close()\n",
    "print(result)"
   ]
  },
  {
   "cell_type": "code",
   "execution_count": 57,
   "metadata": {},
   "outputs": [],
   "source": [
    "s = np.arange(X.shape[0])\n",
    "np.random.shuffle(s)\n",
    "X2 = X[s]\n",
    "y2 = y[s]\n",
    "roc = []\n",
    "prec = []\n",
    "rec = []\n",
    "f1 = []\n",
    "kf = KFold(n_splits=5)\n",
    "for train_index, test_index in kf.split(X2):\n",
    "    X_train2, X_test2 = X2[train_index], X2[test_index]\n",
    "    y_train2, y_test2 = y2[train_index], y2[test_index]\n",
    "    clf = LogisticRegression(penalty='l2', solver='saga',class_weight='balanced')\n",
    "    clf.fit(X_train2,y_train2)\n",
    "    pred = clf.predict(X_test)\n",
    "        \n",
    "    roc.append(roc_auc_score(y_test,pred))\n",
    "    prec.append(precision_score(y_test,pred))\n",
    "    rec.append(recall_score(y_test,pred))\n",
    "    f1.append(f1_score(y_test,pred))"
   ]
  },
  {
   "cell_type": "code",
   "execution_count": 58,
   "metadata": {},
   "outputs": [
    {
     "name": "stdout",
     "output_type": "stream",
     "text": [
      "0.7797772753601526 0.7604220297684171 0.8169397783964574 0.7876680942834602\n"
     ]
    }
   ],
   "source": [
    "print(np.mean(roc),np.mean(prec),np.mean(rec),np.mean(f1))"
   ]
  },
  {
   "cell_type": "code",
   "execution_count": 59,
   "metadata": {},
   "outputs": [],
   "source": [
    "X_comb = np.row_stack((X,X_test))\n",
    "y_comb = np.array(list(y) + list(y_test))\n",
    "s = np.arange(X_comb.shape[0])\n",
    "np.random.shuffle(s)\n",
    "X2 = X_comb[s]\n",
    "y2 = y_comb[s]\n",
    "roc = []\n",
    "prec = []\n",
    "rec = []\n",
    "f1 = []\n",
    "kf = KFold(n_splits=5)\n",
    "for train_index, test_index in kf.split(X2):\n",
    "    X_train2, X_test2 = X2[train_index], X2[test_index]\n",
    "    y_train2, y_test2 = y2[train_index], y2[test_index]\n",
    "    clf = LogisticRegression(penalty='l2', solver='saga',class_weight='balanced')\n",
    "    clf.fit(X_train2,y_train2)\n",
    "    pred = clf.predict(X_test2)\n",
    "        \n",
    "    roc.append(roc_auc_score(y_test2,pred))\n",
    "    prec.append(precision_score(y_test2,pred))\n",
    "    rec.append(recall_score(y_test2,pred))\n",
    "    f1.append(f1_score(y_test2,pred))"
   ]
  },
  {
   "cell_type": "code",
   "execution_count": 60,
   "metadata": {},
   "outputs": [
    {
     "name": "stdout",
     "output_type": "stream",
     "text": [
      "0.78388719827073 0.7603565687250592 0.8290657034307121 0.7932221707374524\n"
     ]
    }
   ],
   "source": [
    "print(np.mean(roc),np.mean(prec),np.mean(rec),np.mean(f1))"
   ]
  },
  {
   "cell_type": "code",
   "execution_count": null,
   "metadata": {},
   "outputs": [],
   "source": []
  }
 ],
 "metadata": {
  "kernelspec": {
   "display_name": "Python 3",
   "language": "python",
   "name": "python3"
  },
  "language_info": {
   "codemirror_mode": {
    "name": "ipython",
    "version": 3
   },
   "file_extension": ".py",
   "mimetype": "text/x-python",
   "name": "python",
   "nbconvert_exporter": "python",
   "pygments_lexer": "ipython3",
   "version": "3.7.4"
  }
 },
 "nbformat": 4,
 "nbformat_minor": 2
}
